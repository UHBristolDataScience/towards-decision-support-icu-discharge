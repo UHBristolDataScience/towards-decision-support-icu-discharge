{
 "cells": [
  {
   "cell_type": "markdown",
   "metadata": {},
   "source": [
    "## Building the basic MIMIC feautre matrix for NLD work.\n",
    "\n",
    "* We take minimum and maximum values of each variable during four hour sample window (four hours prior to callout)\n",
    "* For 'single_feature_variables' we take only the final value (variables which are infrequently recorded will have the same value for min and max and therefore using both min and max as features for these variables does not make sense).\n",
    "* We find that there are a lot of missing values when using the four hour sample window. So, where values are missing we look back over an extended sample window of 36 hours and take the final value during that time as the feature value.\n",
    "* The above procedure results in imbalanced class sizes (there are relatively few patients with negative outcomes following callout). To balance the class sizes we sample from icustays using the same method described above, but at a sample time that is an integer multiple of 24 hours prior to callout (but not within 24 hours of icu admission). We specify that this sample must be taken at least 72 hours prior to callout, under the assumption that a patient is deintitely not ready for discharge at this point in time.\n",
    "* These extra instances of the negative class are assigned unique identifier and treated as separate patients, however we save the id mapping so we can tell which stay each sample was taken from and at what time point.\n",
    "\n",
    "#### First we configure this script:"
   ]
  },
  {
   "cell_type": "code",
   "execution_count": 1,
   "metadata": {
    "collapsed": true
   },
   "outputs": [],
   "source": [
    "DATA_PATH = 'mimic_all_data_CLEANED'   ## where the data we previously extracted and cleaned up from mimic is stored\n",
    "SAVE_FLAG = True    ## allows running this script without autmatically overwriting previous feature matrices\n",
    "HOURS_BEFORE_RFD = 4    ## original sample window (four hours specified by NLD)\n",
    "MAXIMUM_LOOKBACK = 36   ## extension to sample window when no value recorded in original window (final valule taken)\n",
    "\n",
    "## variables for which to only use single feature column:\n",
    "single_feature_variables = ['k', 'na', 'bun', 'creatinine', 'hco3', 'haemoglobin', 'fio2', 'airway', 'pco2', 'po2', 'pain']"
   ]
  },
  {
   "cell_type": "code",
   "execution_count": 2,
   "metadata": {},
   "outputs": [
    {
     "name": "stdout",
     "output_type": "stream",
     "text": [
      "This non-commercial license of GraphLab Create for academic use is assigned to cm1788@bristol.ac.uk and will expire on October 04, 2019.\n"
     ]
    },
    {
     "name": "stderr",
     "output_type": "stream",
     "text": [
      "[INFO] graphlab.cython.cy_server: GraphLab Create v2.1 started. Logging: /tmp/graphlab_server_1553272077.log\n"
     ]
    }
   ],
   "source": [
    "import graphlab\n",
    "import numpy as np\n",
    "import pickle\n",
    "import datetime\n",
    "import shutil\n",
    "from collections import OrderedDict\n",
    "import matplotlib.pyplot as plt\n",
    "import matplotlib.dates as dates\n",
    "import graphlab.aggregate as agg\n",
    "%matplotlib inline"
   ]
  },
  {
   "cell_type": "markdown",
   "metadata": {},
   "source": [
    "#### Load the data that we have previously extracted and pre-processed from MIMIC:"
   ]
  },
  {
   "cell_type": "code",
   "execution_count": 3,
   "metadata": {},
   "outputs": [],
   "source": [
    "all_data = graphlab.SFrame(DATA_PATH)"
   ]
  },
  {
   "cell_type": "markdown",
   "metadata": {},
   "source": [
    "#### Create an SFrame to store summary of missing data:"
   ]
  },
  {
   "cell_type": "code",
   "execution_count": 4,
   "metadata": {
    "collapsed": true
   },
   "outputs": [],
   "source": [
    "missing_data_summary = graphlab.SFrame()"
   ]
  },
  {
   "cell_type": "markdown",
   "metadata": {},
   "source": [
    "#### Select only measurments taken in HOURS_BEFORE_DISCHARGE:"
   ]
  },
  {
   "cell_type": "code",
   "execution_count": 5,
   "metadata": {},
   "outputs": [
    {
     "name": "stdout",
     "output_type": "stream",
     "text": [
      "There are 11267 icu satys with variables recorded in the final 4 hours before CALLOUT.\n"
     ]
    }
   ],
   "source": [
    "all_data = all_data[all_data['hrs_bRFD']<=HOURS_BEFORE_RFD]\n",
    "all_data = all_data[all_data['hrs_bRFD']>=0]\n",
    "print \"There are %d icu satys with variables recorded in the final %d hours before CALLOUT.\" %(len(all_data['C.ICUSTAY_ID'].unique()),HOURS_BEFORE_RFD)"
   ]
  },
  {
   "cell_type": "markdown",
   "metadata": {},
   "source": [
    "#### Produce data summary:"
   ]
  },
  {
   "cell_type": "code",
   "execution_count": 6,
   "metadata": {},
   "outputs": [
    {
     "name": "stdout",
     "output_type": "stream",
     "text": [
      "There are 10650 icu stays in the cohort.\n"
     ]
    }
   ],
   "source": [
    "summary = all_data.groupby(key_columns=['C.ICUSTAY_ID'], operations={'outcome':agg.SELECT_ONE('outcome'),\n",
    "                                                                     'cohort':agg.SELECT_ONE('cohort'),\n",
    "                                                                     'readmit':agg.SELECT_ONE('readmit'),\n",
    "                                                                     'in_h_death':agg.SELECT_ONE('in_h_death'),\n",
    "                                                                     'in_icu_death':agg.SELECT_ONE('in_icu_death'),\n",
    "                                                                     'II.LOS':agg.SELECT_ONE('II.LOS'),\n",
    "                                                                     'II.OUTTIME':agg.SELECT_ONE('II.OUTTIME'),\n",
    "                                                                     'II.INTIME':agg.SELECT_ONE('II.INTIME')\n",
    "                                                                    })\n",
    "\n",
    "print \"There are %d icu stays in the cohort.\" %sum(summary['cohort']==1)\n",
    "cohort_summary = summary[summary['cohort']==1]"
   ]
  },
  {
   "cell_type": "markdown",
   "metadata": {},
   "source": [
    "#### We now begin to construct the feature matrix."
   ]
  },
  {
   "cell_type": "code",
   "execution_count": 7,
   "metadata": {
    "collapsed": true
   },
   "outputs": [],
   "source": [
    "features = all_data.groupby(key_columns=['C.ICUSTAY_ID', 'VARIABLE'], \n",
    "                            operations={'min':agg.MIN('C.VALUENUM'),\n",
    "                                        'max':agg.MAX('C.VALUENUM'),\n",
    "                                        'values':agg.CONCAT('C.VALUENUM'),\n",
    "                                        'count':agg.COUNT('C.VALUENUM'),\n",
    "                                        'cohort':agg.SELECT_ONE('cohort'),\n",
    "                                        'outcome':agg.SELECT_ONE('outcome')\n",
    "                                        })\n",
    "\n",
    "features = features.sort(ascending=True, sort_columns='C.ICUSTAY_ID')"
   ]
  },
  {
   "cell_type": "markdown",
   "metadata": {},
   "source": [
    "#### We define a function that takes the above dataframe and splits it into feature columns:"
   ]
  },
  {
   "cell_type": "code",
   "execution_count": 8,
   "metadata": {
    "collapsed": true
   },
   "outputs": [],
   "source": [
    "def _split_features_to_columns(features, single_feature_vars=single_feature_variables):\n",
    "    ''' Note: sort features by ICUSTAY_ID before using this function.'''\n",
    "    \n",
    "    all_variables = features['VARIABLE'].unique()\n",
    "    all_stay_ids = features['C.ICUSTAY_ID'].unique().sort()\n",
    "    \n",
    "    thisFM = graphlab.SFrame()\n",
    "    thisFM['ICUSTAY_ID'] = all_stay_ids\n",
    "    \n",
    "    for var in all_variables:\n",
    "        print var\n",
    "\n",
    "        var_min = []\n",
    "        var_max = []\n",
    "        var_values = []\n",
    "        var_count = []\n",
    "\n",
    "        _subset = features[features['VARIABLE']==var]\n",
    "        N = len(_subset)-1\n",
    "\n",
    "        rid = 0\n",
    "        for sid in all_stay_ids:\n",
    "            if rid<=N and _subset[rid]['C.ICUSTAY_ID']==sid:\n",
    "                ## add data and move on a row\n",
    "                row = _subset[rid]\n",
    "                var_min.append(row['min'])\n",
    "                var_max.append(row['max'])\n",
    "                var_values.append(row['values'])\n",
    "                rid += 1\n",
    "            else:\n",
    "                ## add None values and stay in place\n",
    "                var_min.append(None)\n",
    "                var_max.append(None)\n",
    "                var_values.append([])\n",
    "\n",
    "        if var not in single_feature_vars:\n",
    "            thisFM[var + '_min'] = var_min\n",
    "            thisFM[var + '_max'] = var_max\n",
    "    \n",
    "        else:\n",
    "            ## if it is a single variable feature - take final value only\n",
    "            thisFM[var] = [val[-1]  if len(val)>0 else None for val in var_values]\n",
    "        \n",
    "    return thisFM"
   ]
  },
  {
   "cell_type": "code",
   "execution_count": 9,
   "metadata": {},
   "outputs": [
    {
     "name": "stdout",
     "output_type": "stream",
     "text": [
      "creatinine\n",
      "po2\n",
      "fio2\n",
      "pco2\n",
      "bp\n",
      "pain\n",
      "k\n",
      "hr\n",
      "gcs\n",
      "bun\n",
      "hco3\n",
      "airway\n",
      "resp\n",
      "haemoglobin\n",
      "spo2\n",
      "temp\n",
      "na\n"
     ]
    }
   ],
   "source": [
    "FM = _split_features_to_columns(features, single_feature_variables)"
   ]
  },
  {
   "cell_type": "markdown",
   "metadata": {},
   "source": [
    "#### How many missing values are there in this feature matrix?"
   ]
  },
  {
   "cell_type": "code",
   "execution_count": 10,
   "metadata": {},
   "outputs": [
    {
     "name": "stdout",
     "output_type": "stream",
     "text": [
      "+-------------+------------------+\n",
      "|   variable  | fraction missing |\n",
      "+-------------+------------------+\n",
      "|  ICUSTAY_ID |       0.0        |\n",
      "|    hr_max   | 0.00168634064081 |\n",
      "|    hr_min   | 0.00168634064081 |\n",
      "|   resp_min  | 0.00603532439869 |\n",
      "|   resp_max  | 0.00603532439869 |\n",
      "|    bp_min   | 0.00665660779267 |\n",
      "|    bp_max   | 0.00665660779267 |\n",
      "|   spo2_min  | 0.0113606106328  |\n",
      "|   spo2_max  | 0.0113606106328  |\n",
      "|   temp_max  | 0.0769503860833  |\n",
      "|   temp_min  | 0.0769503860833  |\n",
      "|   gcs_min   |   0.1076595367   |\n",
      "|   gcs_max   |   0.1076595367   |\n",
      "|     pain    |  0.461258542647  |\n",
      "|      k      |  0.874589509186  |\n",
      "|      na     |  0.874678263957  |\n",
      "|     bun     |  0.883731250555  |\n",
      "|  creatinine |  0.883997514866  |\n",
      "|     hco3    |  0.88453004349   |\n",
      "| haemoglobin |  0.894293068252  |\n",
      "|     fio2    |  0.932102600515  |\n",
      "|    airway   |  0.984911689003  |\n",
      "|     pco2    |  0.987663086891  |\n",
      "|     po2     |  0.987663086891  |\n",
      "+-------------+------------------+\n",
      "[24 rows x 2 columns]\n",
      "\n"
     ]
    }
   ],
   "source": [
    "nrows = float(len(FM))\n",
    "\n",
    "missing_data = graphlab.SFrame()\n",
    "vname = []\n",
    "miss_freq = []\n",
    "\n",
    "for col in FM.column_names():\n",
    "    vname.append(col) \n",
    "    miss_freq.append(sum(FM[col]==None)/nrows)\n",
    "        \n",
    "missing_data['variable'] = vname\n",
    "missing_data['fraction missing'] = miss_freq\n",
    "\n",
    "missing_data = missing_data.sort('fraction missing', ascending=True)\n",
    "missing_data.print_rows(num_rows=25)"
   ]
  },
  {
   "cell_type": "markdown",
   "metadata": {},
   "source": [
    "#### Some variables have a very high frequency of missing values. We decided to improve this by relaxing the 4 hour measurement window of the NLD criteria - SEE BLEOW. In some cases (e.g. laboratory results) this is clearly too short a window and is producing lots of missingness. "
   ]
  },
  {
   "cell_type": "code",
   "execution_count": 11,
   "metadata": {
    "collapsed": true
   },
   "outputs": [],
   "source": [
    "missing_data_summary['variable'] = missing_data['variable']\n",
    "missing_data_summary = missing_data_summary.join(how='inner',on='variable',right=missing_data)\n",
    "missing_data_summary = missing_data_summary.rename({'fraction missing':'mimic_4hr'})"
   ]
  },
  {
   "cell_type": "markdown",
   "metadata": {},
   "source": [
    "#### Here we fill airway since absence -> no ETT at this time and therefore patent airway:"
   ]
  },
  {
   "cell_type": "code",
   "execution_count": 12,
   "metadata": {
    "collapsed": true
   },
   "outputs": [],
   "source": [
    "FM_filled = FM.copy()\n",
    "FM_filled = FM_filled.fillna(column='airway', value=0.0)"
   ]
  },
  {
   "cell_type": "markdown",
   "metadata": {},
   "source": [
    "#### We construct a table with the final value before CALLOUT for each variable for each stay:"
   ]
  },
  {
   "cell_type": "code",
   "execution_count": 13,
   "metadata": {},
   "outputs": [],
   "source": [
    "all_data = graphlab.SFrame(DATA_PATH)\n",
    "all_data = all_data[all_data['hrs_bRFD']>=0]\n",
    "all_data = all_data.filter_by(column_name='C.ICUSTAY_ID', values=FM_filled['ICUSTAY_ID'])"
   ]
  },
  {
   "cell_type": "code",
   "execution_count": 14,
   "metadata": {
    "collapsed": true
   },
   "outputs": [],
   "source": [
    "final_values = all_data.groupby(key_columns=['C.ICUSTAY_ID', 'VARIABLE'], \n",
    "                                operations={\n",
    "                                            'hrs_bRFD':agg.ARGMAX('C.CHARTTIME', 'hrs_bRFD'),\n",
    "                                            'C.VALUENUM':agg.ARGMAX('C.CHARTTIME', 'C.VALUENUM')\n",
    "                                            })\n",
    "\n",
    "final_values = final_values[final_values['hrs_bRFD']<=MAXIMUM_LOOKBACK]\n",
    "final_values = final_values[final_values['hrs_bRFD']>HOURS_BEFORE_RFD]\n",
    "final_values = final_values.sort(ascending=True, sort_columns=['VARIABLE', 'C.ICUSTAY_ID'])"
   ]
  },
  {
   "cell_type": "code",
   "execution_count": 15,
   "metadata": {
    "collapsed": true
   },
   "outputs": [],
   "source": [
    "vars_to_use_fv = [var for var in final_values['VARIABLE'].unique()]"
   ]
  },
  {
   "cell_type": "code",
   "execution_count": 16,
   "metadata": {
    "collapsed": true
   },
   "outputs": [],
   "source": [
    "FM_filled = FM_filled.sort(ascending=True, sort_columns='ICUSTAY_ID')"
   ]
  },
  {
   "cell_type": "markdown",
   "metadata": {},
   "source": [
    "#### We now replace missing values (from four hour window) with final values from the extended window (where available):"
   ]
  },
  {
   "cell_type": "code",
   "execution_count": 17,
   "metadata": {},
   "outputs": [
    {
     "name": "stdout",
     "output_type": "stream",
     "text": [
      "creatinine\n",
      "po2\n",
      "fio2\n",
      "pco2\n",
      "bp\n",
      "pain\n",
      "k\n",
      "hr\n",
      "gcs\n",
      "bun\n",
      "hco3\n",
      "airway\n",
      "resp\n",
      "haemoglobin\n",
      "spo2\n",
      "temp\n",
      "na\n"
     ]
    }
   ],
   "source": [
    "def replace_missing_value(subset, variable, FM_filled, N, vtype='min'):\n",
    "    \n",
    "    if vtype=='min':\n",
    "        suffix = '_min'\n",
    "    elif vtype=='max':\n",
    "        suffix = '_max'\n",
    "    elif vtype=='single':\n",
    "        suffix = ''\n",
    "        \n",
    "    new_col = []\n",
    "    _subset_row_counter = 0\n",
    "    \n",
    "    for iid,val in zip(FM_filled['ICUSTAY_ID'], FM_filled[variable+suffix]):\n",
    "\n",
    "        if val==None:\n",
    "            if _subset_row_counter<=N and subset[_subset_row_counter]['C.ICUSTAY_ID']==iid:\n",
    "                new_col.append(subset[_subset_row_counter]['C.VALUENUM'])\n",
    "                _subset_row_counter += 1\n",
    "            else:\n",
    "                new_col.append(None)\n",
    "        else:\n",
    "            new_col.append(val)\n",
    "\n",
    "    FM_filled[variable+suffix] = new_col\n",
    "    return FM_filled\n",
    "\n",
    "\n",
    "for variable in vars_to_use_fv:\n",
    "    print variable\n",
    "    _subset = final_values[final_values['VARIABLE']==variable]\n",
    "    _subset = _subset.sort(sort_columns='C.ICUSTAY_ID', ascending=True)\n",
    "    N = len(_subset)-1\n",
    "    \n",
    "    if variable not in single_feature_variables:\n",
    "        FM_filled = replace_missing_value(_subset, variable, FM_filled, N, vtype='min')\n",
    "        FM_filled = replace_missing_value(_subset, variable, FM_filled, N, vtype='max')\n",
    "    \n",
    "    else:\n",
    "        FM_filled = replace_missing_value(_subset, variable, FM_filled, N, vtype='single')"
   ]
  },
  {
   "cell_type": "markdown",
   "metadata": {},
   "source": [
    "#### We see that this has improved the missingness for most variables:"
   ]
  },
  {
   "cell_type": "code",
   "execution_count": 18,
   "metadata": {},
   "outputs": [
    {
     "name": "stdout",
     "output_type": "stream",
     "text": [
      "ICUSTAY_ID : 0.000\n",
      "creatinine : 0.019\n",
      "po2 : 0.783\n",
      "fio2 : 0.686\n",
      "pco2 : 0.782\n",
      "bp_min : 0.000\n",
      "bp_max : 0.000\n",
      "pain : 0.140\n",
      "k : 0.017\n",
      "hr_min : 0.000\n",
      "hr_max : 0.000\n",
      "gcs_min : 0.003\n",
      "gcs_max : 0.003\n",
      "bun : 0.019\n",
      "hco3 : 0.019\n",
      "airway : 0.000\n",
      "resp_min : 0.001\n",
      "resp_max : 0.001\n",
      "haemoglobin : 0.024\n",
      "spo2_min : 0.001\n",
      "spo2_max : 0.001\n",
      "temp_min : 0.002\n",
      "temp_max : 0.002\n",
      "na : 0.017\n"
     ]
    }
   ],
   "source": [
    "nrows = float(len(FM_filled))\n",
    "for col in FM_filled.column_names():\n",
    "    print '%s : %.3f' %(col, sum(FM_filled[col]==None)/nrows)"
   ]
  },
  {
   "cell_type": "code",
   "execution_count": 19,
   "metadata": {
    "collapsed": true
   },
   "outputs": [],
   "source": [
    "missing_data_summary['mimic_36hr'] = missing_data_summary.apply(lambda row: sum(FM_filled[row['variable']]==None)/nrows if row['variable']!='ICUSTAY' else 0.0) "
   ]
  },
  {
   "cell_type": "code",
   "execution_count": 20,
   "metadata": {
    "collapsed": true
   },
   "outputs": [],
   "source": [
    "_sum_sub = summary['C.ICUSTAY_ID', 'cohort', 'outcome']\n",
    "_sum_sub = _sum_sub.rename(names={'C.ICUSTAY_ID':'ICUSTAY_ID'})\n",
    "FM_filled = FM_filled.join(how='inner', on='ICUSTAY_ID', right=_sum_sub)"
   ]
  },
  {
   "cell_type": "markdown",
   "metadata": {},
   "source": [
    "#### We now have a feature matrix. However, the class sizes are highly imbalanced. We decided to balance the class sizes by creating more instances of the negative class. We do this by sampling the patients at integer multiples of 24 hours prior to their CALLOUT."
   ]
  },
  {
   "cell_type": "code",
   "execution_count": 21,
   "metadata": {
    "collapsed": true
   },
   "outputs": [],
   "source": [
    "all_data = graphlab.SFrame(DATA_PATH)"
   ]
  },
  {
   "cell_type": "markdown",
   "metadata": {},
   "source": [
    "We look at how many stays are available at Xi days prior to callout, and how many extra samples would be required to balance the class sizes:"
   ]
  },
  {
   "cell_type": "code",
   "execution_count": 22,
   "metadata": {
    "collapsed": true
   },
   "outputs": [],
   "source": [
    "_stay_summary = all_data.groupby(key_columns='C.ICUSTAY_ID',operations={'outcome':agg.SELECT_ONE('outcome'), 'RFD':agg.SELECT_ONE('RFD'), 'intime':agg.SELECT_ONE('II.INTIME')})\n",
    "_stay_summary['len'] = (_stay_summary['RFD'] - _stay_summary['intime'])/(60*60)"
   ]
  },
  {
   "cell_type": "code",
   "execution_count": 23,
   "metadata": {
    "collapsed": true
   },
   "outputs": [],
   "source": [
    "fx = lambda x:24*x + 4"
   ]
  },
  {
   "cell_type": "code",
   "execution_count": 24,
   "metadata": {
    "collapsed": true
   },
   "outputs": [],
   "source": [
    "_stays = []\n",
    "for i in range(10):\n",
    "    _stays.append(sum(_stay_summary['len'] >= fx(i)))"
   ]
  },
  {
   "cell_type": "code",
   "execution_count": 25,
   "metadata": {},
   "outputs": [
    {
     "name": "stdout",
     "output_type": "stream",
     "text": [
      "9639\n",
      "1628\n",
      "We would need at least 8011 extra samples to balance the classes.\n"
     ]
    }
   ],
   "source": [
    "num_rfd0 = sum(FM_filled['outcome'])\n",
    "num_nrfd0 = len(FM_filled['outcome']) - num_rfd0\n",
    "\n",
    "print num_rfd0\n",
    "print num_nrfd0\n",
    "print \"We would need at least %d extra samples to balance the classes.\" %(num_rfd0 - num_nrfd0)"
   ]
  },
  {
   "cell_type": "code",
   "execution_count": 26,
   "metadata": {},
   "outputs": [
    {
     "data": {
      "image/png": "[encoded data removed]",
      "text/plain": [
       "<matplotlib.figure.Figure at 0x7fcb51a8b8d0>"
      ]
     },
     "metadata": {},
     "output_type": "display_data"
    }
   ],
   "source": [
    "fsa = 15\n",
    "\n",
    "plt.bar(range(10), _stays, color='r', label='NRFD')\n",
    "ax = plt.gca()\n",
    "ax.bar(0,num_rfd0, color='g', label='RFD')\n",
    "plt.legend(fontsize=fsa)\n",
    "plt.xlabel('Xi days', fontsize=fsa)\n",
    "plt.ylabel('number of patients', fontsize=fsa)\n",
    "plt.xticks(fontsize=fsa-2)\n",
    "plt.yticks(fontsize=fsa-2)\n",
    "\n",
    "plt.tight_layout()\n",
    "plt.savefig('mimic_negex_bars.png')"
   ]
  },
  {
   "cell_type": "markdown",
   "metadata": {
    "collapsed": true
   },
   "source": [
    "#### We determine that sampling at Xi in (3-8) will provide more than enough extra NRFD instances."
   ]
  },
  {
   "cell_type": "code",
   "execution_count": 27,
   "metadata": {
    "collapsed": true
   },
   "outputs": [],
   "source": [
    "def sample_at_xi(_all_data, _summary, xi=3, h=4):\n",
    "    ## selects stays to include in negative extras\n",
    "    ## xi is integer number of days before RFD flag\n",
    "    ## h is sample window length (4 hours is NLD standard)\n",
    "    ##      new: only stays that are at least (xi+1)*24 hours long are included\n",
    "    ##           so that sample point does not fall within 24 hours of ICU admission (thanks to reviewer 2) \n",
    "    \n",
    "    sids = _summary[_summary['len']>= fx(xi + 1)]['C.ICUSTAY_ID']  ## added +1 to filter out sample points that would be witin 24 hours of admission to ICU\n",
    "    sub_data = _all_data.filter_by(column_name='C.ICUSTAY_ID',values=sids, exclude=False)\n",
    "    \n",
    "    sub_data = sub_data[sub_data['hrs_bRFD']>= 24*xi]\n",
    "    sub_data = sub_data[sub_data['hrs_bRFD']<= 24*xi + h]\n",
    "    return sub_data"
   ]
  },
  {
   "cell_type": "code",
   "execution_count": 28,
   "metadata": {},
   "outputs": [
    {
     "name": "stdout",
     "output_type": "stream",
     "text": [
      "Xi = 3, ns = 1774\n",
      "Xi = 4, ns = 1315\n",
      "Xi = 5, ns = 1033\n",
      "Xi = 6, ns = 844\n",
      "Xi = 7, ns = 674\n",
      "Xi = 8, ns = 537\n"
     ]
    }
   ],
   "source": [
    "Xi_range = [3,4,5,6,7,8]\n",
    "H = 4\n",
    "fx = lambda x:24*x + H\n",
    "\n",
    "for Xi in Xi_range:\n",
    "    \n",
    "    sub_data = sample_at_xi(all_data, _stay_summary, Xi, H)\n",
    "    print \"Xi = %d, ns = %d\" %(Xi, len(sub_data['C.ICUSTAY_ID'].unique()))"
   ]
  },
  {
   "cell_type": "code",
   "execution_count": 29,
   "metadata": {},
   "outputs": [
    {
     "name": "stdout",
     "output_type": "stream",
     "text": [
      "The lowest ICUSTAY_ID in the dataset is: 200001.\n"
     ]
    }
   ],
   "source": [
    "print \"The lowest ICUSTAY_ID in the dataset is: %d.\" %min(all_data['C.ICUSTAY_ID'])"
   ]
  },
  {
   "cell_type": "markdown",
   "metadata": {},
   "source": [
    "#### We create a one-to-one ID mapping so we can unqileuy identify which patient each new sample comes from:"
   ]
  },
  {
   "cell_type": "code",
   "execution_count": 30,
   "metadata": {
    "collapsed": true
   },
   "outputs": [],
   "source": [
    "id_mapping = graphlab.SFrame()\n",
    "largest_id = max(all_data['C.ICUSTAY_ID'])\n",
    "\n",
    "for Xi in Xi_range:\n",
    "    sub_data = sample_at_xi(all_data, _stay_summary, Xi, H)\n",
    "    \n",
    "    L = len(sub_data['C.ICUSTAY_ID'].unique())\n",
    "    _temp_id_mapping = graphlab.SFrame()\n",
    "    _temp_id_mapping['Xi'] = Xi * np.ones(L)\n",
    "    _temp_id_mapping['ICUSTAY_ID'] = sub_data['C.ICUSTAY_ID'].unique()\n",
    "    id_mapping = id_mapping.append(_temp_id_mapping)\n",
    "\n",
    "id_mapping['new_ID'] = np.arange(len(id_mapping))"
   ]
  },
  {
   "cell_type": "code",
   "execution_count": 31,
   "metadata": {
    "collapsed": true
   },
   "outputs": [],
   "source": [
    "if SAVE_FLAG:\n",
    "    id_mapping.save('mimic_negative_extras_id_mapping')"
   ]
  },
  {
   "cell_type": "markdown",
   "metadata": {},
   "source": [
    "#### Get features for the new samples at Xi = [3,4,5,6,7,8]:"
   ]
  },
  {
   "cell_type": "code",
   "execution_count": 32,
   "metadata": {
    "collapsed": true
   },
   "outputs": [],
   "source": [
    "def get_Xi_features(Xi, all_data, _stay_summary, id_mapping, H=4):\n",
    "    \n",
    "    sub_data = sample_at_xi(all_data, _stay_summary, Xi, H)\n",
    "    ## now get features from subset of data:\n",
    "    features = sub_data.groupby(key_columns=['C.ICUSTAY_ID', 'VARIABLE'], \n",
    "                                operations={'min':agg.MIN('C.VALUENUM'),\n",
    "                                            'max':agg.MAX('C.VALUENUM'),\n",
    "                                            'mean':agg.MEAN('C.VALUENUM'),\n",
    "                                            'var':agg.VARIANCE('C.VALUENUM'),\n",
    "                                            'times':agg.CONCAT('C.CHARTTIME'),\n",
    "                                            'values':agg.CONCAT('C.VALUENUM'),\n",
    "                                            'count':agg.COUNT('C.VALUENUM'),\n",
    "                                            'cohort':agg.SELECT_ONE('cohort'),\n",
    "                                            'outcome':agg.SELECT_ONE('outcome')\n",
    "                                            })\n",
    "\n",
    "    ids = id_mapping.filter_by(column_name='Xi', values=float(Xi))\n",
    "    features = features.rename({'C.ICUSTAY_ID': 'ICUSTAY_ID'})\n",
    "    features = features.join(right=ids, on='ICUSTAY_ID', how='inner')\n",
    "\n",
    "    features = features.remove_column('ICUSTAY_ID')\n",
    "    features = features.rename({'new_ID': 'C.ICUSTAY_ID'})\n",
    "\n",
    "    features = features.sort(ascending=True, sort_columns='C.ICUSTAY_ID')\n",
    "\n",
    "    _temp_FM = _split_features_to_columns(features)\n",
    "    return _temp_FM\n"
   ]
  },
  {
   "cell_type": "code",
   "execution_count": 33,
   "metadata": {},
   "outputs": [
    {
     "name": "stdout",
     "output_type": "stream",
     "text": [
      "creatinine\n",
      "po2\n",
      "fio2\n",
      "pco2\n",
      "bp\n",
      "pain\n",
      "k\n",
      "hr\n",
      "gcs\n",
      "bun\n",
      "hco3\n",
      "airway\n",
      "resp\n",
      "haemoglobin\n",
      "spo2\n",
      "temp\n",
      "na\n",
      "4\n",
      "creatinine\n",
      "po2\n",
      "fio2\n",
      "pco2\n",
      "bp\n",
      "pain\n",
      "k\n",
      "hr\n",
      "gcs\n",
      "bun\n",
      "hco3\n",
      "airway\n",
      "resp\n",
      "haemoglobin\n",
      "spo2\n",
      "temp\n",
      "na\n",
      "5\n",
      "creatinine\n",
      "po2\n",
      "fio2\n",
      "pco2\n",
      "bp\n",
      "pain\n",
      "k\n",
      "hr\n",
      "gcs\n",
      "bun\n",
      "hco3\n",
      "airway\n",
      "resp\n",
      "haemoglobin\n",
      "spo2\n",
      "temp\n",
      "na\n",
      "6\n",
      "creatinine\n",
      "po2\n",
      "fio2\n",
      "pco2\n",
      "bp\n",
      "pain\n",
      "k\n",
      "hr\n",
      "gcs\n",
      "bun\n",
      "hco3\n",
      "airway\n",
      "resp\n",
      "haemoglobin\n",
      "spo2\n",
      "temp\n",
      "na\n",
      "7\n",
      "creatinine\n",
      "po2\n",
      "fio2\n",
      "pco2\n",
      "bp\n",
      "pain\n",
      "k\n",
      "hr\n",
      "gcs\n",
      "bun\n",
      "hco3\n",
      "airway\n",
      "resp\n",
      "haemoglobin\n",
      "spo2\n",
      "temp\n",
      "na\n",
      "8\n",
      "creatinine\n",
      "po2\n",
      "fio2\n",
      "pco2\n",
      "bp\n",
      "pain\n",
      "k\n",
      "hr\n",
      "gcs\n",
      "bun\n",
      "hco3\n",
      "airway\n",
      "resp\n",
      "haemoglobin\n",
      "spo2\n",
      "temp\n",
      "na\n"
     ]
    }
   ],
   "source": [
    "_FM_negative = get_Xi_features(Xi_range[0], all_data, _stay_summary, id_mapping)\n",
    "\n",
    "for Xi in Xi_range[1:]:\n",
    "    print Xi\n",
    "    _temp_FM = get_Xi_features(Xi, all_data, _stay_summary, id_mapping)\n",
    "    _FM_negative = _FM_negative.append(_temp_FM)"
   ]
  },
  {
   "cell_type": "markdown",
   "metadata": {},
   "source": [
    "#### How much missing data?"
   ]
  },
  {
   "cell_type": "code",
   "execution_count": 34,
   "metadata": {},
   "outputs": [
    {
     "name": "stdout",
     "output_type": "stream",
     "text": [
      "+-------------+------------------+\n",
      "|   variable  | fraction missing |\n",
      "+-------------+------------------+\n",
      "|  ICUSTAY_ID |       0.0        |\n",
      "|    hr_max   | 0.00178079974097 |\n",
      "|    hr_min   | 0.00178079974097 |\n",
      "|    bp_min   | 0.00291403593978 |\n",
      "|    bp_max   | 0.00291403593978 |\n",
      "|   spo2_min  | 0.00404727213858 |\n",
      "|   spo2_max  | 0.00404727213858 |\n",
      "|   resp_max  | 0.00453294479521 |\n",
      "|   resp_min  | 0.00453294479521 |\n",
      "|   temp_max  | 0.0715557714101  |\n",
      "|   temp_min  | 0.0715557714101  |\n",
      "|   gcs_min   | 0.0762506070908  |\n",
      "|   gcs_max   | 0.0762506070908  |\n",
      "|     fio2    |  0.331714424478  |\n",
      "|    airway   |  0.462198478226  |\n",
      "|     pain    |  0.462198478226  |\n",
      "|     po2     |  0.805569046463  |\n",
      "|     pco2    |  0.805569046463  |\n",
      "|      k      |  0.841508823053  |\n",
      "|      na     |  0.854621984782  |\n",
      "|     hco3    |  0.877610490529  |\n",
      "|  creatinine |  0.886352598349  |\n",
      "|     bun     |  0.886838271005  |\n",
      "| haemoglobin |  0.909502994981  |\n",
      "+-------------+------------------+\n",
      "[24 rows x 2 columns]\n",
      "\n"
     ]
    }
   ],
   "source": [
    "nrows = float(len(_FM_negative))\n",
    "\n",
    "missing_data = graphlab.SFrame()\n",
    "vname = []\n",
    "miss_freq = []\n",
    "\n",
    "for col in _FM_negative.column_names():\n",
    "        vname.append(col)\n",
    "        miss_freq.append(sum(_FM_negative[col]==None)/nrows)\n",
    "        \n",
    "missing_data['variable'] = vname\n",
    "missing_data['fraction missing'] = miss_freq\n",
    "\n",
    "missing_data = missing_data.sort('fraction missing', ascending=True)\n",
    "missing_data.print_rows(num_rows=25)"
   ]
  },
  {
   "cell_type": "code",
   "execution_count": 35,
   "metadata": {
    "collapsed": true
   },
   "outputs": [],
   "source": [
    "missing_data_summary = missing_data_summary.join(how='inner', on='variable', right=missing_data)\n",
    "missing_data_summary = missing_data_summary.rename({'fraction missing':'mimic_negex_4hour'})"
   ]
  },
  {
   "cell_type": "markdown",
   "metadata": {},
   "source": [
    "#### Fill the missing data:"
   ]
  },
  {
   "cell_type": "code",
   "execution_count": 36,
   "metadata": {
    "collapsed": true
   },
   "outputs": [],
   "source": [
    "_FM_negative_filled = _FM_negative.copy()\n",
    "_FM_negative_filled = _FM_negative_filled.fillna(column='airway', value=0.0)"
   ]
  },
  {
   "cell_type": "code",
   "execution_count": 37,
   "metadata": {
    "collapsed": true
   },
   "outputs": [],
   "source": [
    "def fill_with_final_values(FM_filled, Xi, new_icustays):\n",
    "    \n",
    "    all_data = graphlab.SFrame(DATA_PATH)\n",
    "    all_data = all_data[all_data['hrs_bRFD'] >= 24*Xi]\n",
    "    \n",
    "    new_icustays = new_icustays.rename({'ICUSTAY_ID':'C.ICUSTAY_ID'})\n",
    "    all_data = all_data.join(right=new_icustays, on='C.ICUSTAY_ID', how='inner')\n",
    "    all_data = all_data.remove_column('C.ICUSTAY_ID')\n",
    "    all_data = all_data.rename({'new_ID':'C.ICUSTAY_ID'})\n",
    "    \n",
    "    final_values = all_data.groupby(key_columns=['C.ICUSTAY_ID', 'VARIABLE'], \n",
    "                                    operations={\n",
    "                                                'hrs_bRFD':agg.ARGMAX('C.CHARTTIME', 'hrs_bRFD'),\n",
    "                                                'C.VALUENUM':agg.ARGMAX('C.CHARTTIME', 'C.VALUENUM')\n",
    "                                                })\n",
    "\n",
    "    final_values = final_values[final_values['hrs_bRFD'] <= MAXIMUM_LOOKBACK + (24*Xi)]\n",
    "    final_values = final_values[final_values['hrs_bRFD'] > H + (24*Xi)]\n",
    "    \n",
    "    final_values = final_values.sort(ascending=True, sort_columns=['VARIABLE', 'C.ICUSTAY_ID'])\n",
    "    vars_to_use_fv = [var for var in final_values['VARIABLE'].unique()] \n",
    "    FM_filled = FM_filled.sort(ascending=True, sort_columns='ICUSTAY_ID')\n",
    "    \n",
    "    for variable in vars_to_use_fv:\n",
    "        print variable\n",
    "\n",
    "        _subset = final_values[final_values['VARIABLE']==variable]\n",
    "        _subset = _subset.sort(sort_columns='C.ICUSTAY_ID', ascending=True)\n",
    "        N = len(_subset)-1\n",
    "        \n",
    "        if variable not in single_feature_variables:\n",
    "            FM_filled = replace_missing_value(_subset, variable, FM_filled, N, vtype='min')\n",
    "            FM_filled = replace_missing_value(_subset, variable, FM_filled, N, vtype='max')\n",
    "        else:\n",
    "            FM_filled = replace_missing_value(_subset, variable, FM_filled, N, vtype='single')\n",
    " \n",
    "    return FM_filled"
   ]
  },
  {
   "cell_type": "markdown",
   "metadata": {},
   "source": [
    "#### Fill separately for each Xi and then recombine:"
   ]
  },
  {
   "cell_type": "code",
   "execution_count": 38,
   "metadata": {},
   "outputs": [
    {
     "name": "stdout",
     "output_type": "stream",
     "text": [
      "creatinine\n",
      "po2\n",
      "fio2\n",
      "pco2\n",
      "bp\n",
      "pain\n",
      "k\n",
      "hr\n",
      "gcs\n",
      "bun\n",
      "hco3\n",
      "airway\n",
      "resp\n",
      "haemoglobin\n",
      "spo2\n",
      "temp\n",
      "na\n",
      "creatinine\n",
      "po2\n",
      "fio2\n",
      "pco2\n",
      "bp\n",
      "pain\n",
      "k\n",
      "hr\n",
      "gcs\n",
      "bun\n",
      "hco3\n",
      "airway\n",
      "resp\n",
      "haemoglobin\n",
      "spo2\n",
      "temp\n",
      "na\n",
      "creatinine\n",
      "po2\n",
      "fio2\n",
      "pco2\n",
      "bp\n",
      "pain\n",
      "k\n",
      "hr\n",
      "gcs\n",
      "bun\n",
      "hco3\n",
      "airway\n",
      "resp\n",
      "haemoglobin\n",
      "spo2\n",
      "temp\n",
      "na\n",
      "creatinine\n",
      "po2\n",
      "fio2\n",
      "pco2\n",
      "bp\n",
      "pain\n",
      "k\n",
      "hr\n",
      "gcs\n",
      "bun\n",
      "hco3\n",
      "airway\n",
      "resp\n",
      "haemoglobin\n",
      "spo2\n",
      "temp\n",
      "na\n",
      "creatinine\n",
      "po2\n",
      "fio2\n",
      "pco2\n",
      "bp\n",
      "pain\n",
      "k\n",
      "hr\n",
      "gcs\n",
      "bun\n",
      "hco3\n",
      "airway\n",
      "resp\n",
      "haemoglobin\n",
      "spo2\n",
      "temp\n",
      "na\n",
      "creatinine\n",
      "po2\n",
      "fio2\n",
      "pco2\n",
      "pain\n",
      "k\n",
      "gcs\n",
      "bun\n",
      "hco3\n",
      "airway\n",
      "resp\n",
      "haemoglobin\n",
      "spo2\n",
      "temp\n",
      "na\n"
     ]
    }
   ],
   "source": [
    "Xi = Xi_range[0]\n",
    "## filter feature matrix to only contain instances from Xi sample\n",
    "_temp_FM_filled = _FM_negative_filled.filter_by(column_name='ICUSTAY_ID', values=id_mapping[id_mapping['Xi']==float(Xi)]['new_ID'])\n",
    "## fill with appropriate final values:\n",
    "new_icustays = id_mapping[id_mapping['Xi']==float(Xi)]\n",
    "_temp_FM_filled = fill_with_final_values(FM_filled=_temp_FM_filled, Xi=Xi, new_icustays = new_icustays)\n",
    "FM_negative_filled = _temp_FM_filled.copy()\n",
    "\n",
    "for Xi in Xi_range[1:]:\n",
    "    \n",
    "    ## filter feature matrix to only contain instances from Xi sample\n",
    "    _temp_FM_filled = _FM_negative_filled.filter_by(column_name='ICUSTAY_ID', values=id_mapping[id_mapping['Xi']==float(Xi)]['new_ID'])\n",
    "    ## fill with appropriate final values:\n",
    "    new_icustays = id_mapping[id_mapping['Xi']==float(Xi)]\n",
    "    _temp_FM_filled = fill_with_final_values(FM_filled=_temp_FM_filled, Xi=Xi, new_icustays = new_icustays)\n",
    "    FM_negative_filled = FM_negative_filled.append(_temp_FM_filled) "
   ]
  },
  {
   "cell_type": "markdown",
   "metadata": {
    "collapsed": true
   },
   "source": [
    "#### How much missing data in the feature matrix for these extra NRFD samples:"
   ]
  },
  {
   "cell_type": "code",
   "execution_count": 39,
   "metadata": {},
   "outputs": [
    {
     "name": "stdout",
     "output_type": "stream",
     "text": [
      "ICUSTAY_ID : 0.000\n",
      "creatinine : 0.004\n",
      "po2 : 0.349\n",
      "fio2 : 0.203\n",
      "pco2 : 0.348\n",
      "bp_min : 0.001\n",
      "bp_max : 0.001\n",
      "pain : 0.116\n",
      "k : 0.004\n",
      "hr_min : 0.000\n",
      "hr_max : 0.000\n",
      "gcs_min : 0.002\n",
      "gcs_max : 0.002\n",
      "bun : 0.004\n",
      "hco3 : 0.004\n",
      "airway : 0.000\n",
      "resp_min : 0.002\n",
      "resp_max : 0.002\n",
      "haemoglobin : 0.005\n",
      "spo2_min : 0.002\n",
      "spo2_max : 0.002\n",
      "temp_min : 0.021\n",
      "temp_max : 0.021\n",
      "na : 0.004\n"
     ]
    }
   ],
   "source": [
    "nrows = float(len(FM_negative_filled))\n",
    "for col in FM_negative_filled.column_names():\n",
    "        print '%s : %.3f' %(col, sum(FM_negative_filled[col]==None)/nrows)"
   ]
  },
  {
   "cell_type": "code",
   "execution_count": 40,
   "metadata": {
    "collapsed": true
   },
   "outputs": [],
   "source": [
    "missing_data_summary['mimic_negex_36hr'] = missing_data_summary.apply(lambda row: sum(FM_negative_filled[row['variable']]==None)/nrows ) "
   ]
  },
  {
   "cell_type": "code",
   "execution_count": 41,
   "metadata": {
    "collapsed": true
   },
   "outputs": [],
   "source": [
    "all_data = graphlab.SFrame(DATA_PATH)\n",
    "summary = all_data.groupby(key_columns=['C.ICUSTAY_ID'], operations={'outcome':agg.SELECT_ONE('outcome'),\n",
    "                                                                     'cohort':agg.SELECT_ONE('cohort'),\n",
    "                                                                     'readmit':agg.SELECT_ONE('readmit'),\n",
    "                                                                     'in_h_death':agg.SELECT_ONE('in_h_death'),\n",
    "                                                                     'in_icu_death':agg.SELECT_ONE('in_icu_death'),\n",
    "                                                                     'II.LOS':agg.SELECT_ONE('II.LOS'),\n",
    "                                                                     'II.OUTTIME':agg.SELECT_ONE('II.OUTTIME'),\n",
    "                                                                     'II.INTIME':agg.SELECT_ONE('II.INTIME'),\n",
    "                                                                     'RFD':agg.SELECT_ONE('RFD')\n",
    "                                                                    })\n",
    "\n",
    "summary = summary.rename({'C.ICUSTAY_ID':'ICUSTAY_ID'})\n",
    "cohort_info = id_mapping.join(how='inner', on='ICUSTAY_ID', right=summary)\n",
    "cohort_info = cohort_info['new_ID', 'cohort']\n",
    "cohort_info = cohort_info.rename({'new_ID':'ICUSTAY_ID'})\n",
    "\n",
    "FM_negative_filled = FM_negative_filled.join(how='inner', on='ICUSTAY_ID', right=cohort_info)\n",
    "FM_negative_filled['outcome'] = np.zeros(len(FM_negative_filled), dtype=int)"
   ]
  },
  {
   "cell_type": "markdown",
   "metadata": {},
   "source": [
    "#### We finally join the extra negative instances to the original feature matrix: "
   ]
  },
  {
   "cell_type": "code",
   "execution_count": 42,
   "metadata": {
    "collapsed": true
   },
   "outputs": [],
   "source": [
    "FM_filled = FM_filled.append(FM_negative_filled)"
   ]
  },
  {
   "cell_type": "markdown",
   "metadata": {},
   "source": [
    "#### Save the feature matrix with and without missing values included:"
   ]
  },
  {
   "cell_type": "code",
   "execution_count": 43,
   "metadata": {
    "collapsed": true
   },
   "outputs": [],
   "source": [
    "if SAVE_FLAG:\n",
    "        FM_filled.save('Feature_Matrix_MIMIC_with_missing_values')\n",
    "        FM_filled_cc = FM_filled.dropna(how='any')\n",
    "        FM_filled.save('Feature_Matrix_MIMIC_complete_case')"
   ]
  },
  {
   "cell_type": "markdown",
   "metadata": {},
   "source": [
    "#### Produce summary of missing values as recorded throughout this script:"
   ]
  },
  {
   "cell_type": "code",
   "execution_count": 44,
   "metadata": {
    "collapsed": true
   },
   "outputs": [],
   "source": [
    "order = graphlab.SFrame()\n",
    "order['variable'] =['hr_max', 'hr_min','spo2_max',\n",
    "                'spo2_min','airway','resp_max',\n",
    "                'resp_min','bp_min','bp_max',\n",
    "                'temp_min','temp_max','gcs_max',\n",
    "                'gcs_min','pain','hco3',\n",
    "                'pco2','po2','fio2',\n",
    "                'haemoglobin','k','bun',\n",
    "                'creatinine','na']\n",
    "\n",
    "order['num'] = range(len(order))"
   ]
  },
  {
   "cell_type": "code",
   "execution_count": 45,
   "metadata": {
    "collapsed": true
   },
   "outputs": [],
   "source": [
    "missing_data_summary = missing_data_summary.join(how='inner', on='variable', right=order)\n",
    "missing_data_summary = missing_data_summary.sort('num')\n",
    "missing_data_summary = missing_data_summary.remove_column('num')"
   ]
  },
  {
   "cell_type": "code",
   "execution_count": 46,
   "metadata": {},
   "outputs": [
    {
     "name": "stdout",
     "output_type": "stream",
     "text": [
      "+-------------+------------------+-------------------+-------------------+\n",
      "|   variable  |    mimic_4hr     |     mimic_36hr    | mimic_negex_4hour |\n",
      "+-------------+------------------+-------------------+-------------------+\n",
      "|    hr_max   | 0.00168634064081 | 0.000355019082276 |  0.00178079974097 |\n",
      "|    hr_min   | 0.00168634064081 | 0.000355019082276 |  0.00178079974097 |\n",
      "|   spo2_max  | 0.0113606106328  |  0.00079879293512 |  0.00404727213858 |\n",
      "|   spo2_min  | 0.0113606106328  |  0.00079879293512 |  0.00404727213858 |\n",
      "|    airway   |  0.984911689003  |        0.0        |   0.462198478226  |\n",
      "|   resp_max  | 0.00603532439869 |  0.00106505724683 |  0.00453294479521 |\n",
      "|   resp_min  | 0.00603532439869 |  0.00106505724683 |  0.00453294479521 |\n",
      "|    bp_min   | 0.00665660779267 | 0.000443773852845 |  0.00291403593978 |\n",
      "|    bp_max   | 0.00665660779267 | 0.000443773852845 |  0.00291403593978 |\n",
      "|   temp_min  | 0.0769503860833  |  0.00213011449365 |  0.0715557714101  |\n",
      "|   temp_max  | 0.0769503860833  |  0.00213011449365 |  0.0715557714101  |\n",
      "|   gcs_max   |   0.1076595367   |  0.00319517174048 |  0.0762506070908  |\n",
      "|   gcs_min   |   0.1076595367   |  0.00319517174048 |  0.0762506070908  |\n",
      "|     pain    |  0.461258542647  |   0.140321292269  |   0.462198478226  |\n",
      "|     hco3    |  0.88453004349   |  0.0185497470489  |   0.877610490529  |\n",
      "|     pco2    |  0.987663086891  |   0.78157450963   |   0.805569046463  |\n",
      "|     po2     |  0.987663086891  |   0.782550812106  |   0.805569046463  |\n",
      "|     fio2    |  0.932102600515  |   0.685541847874  |   0.331714424478  |\n",
      "| haemoglobin |  0.894293068252  |  0.0242300523653  |   0.909502994981  |\n",
      "|      k      |  0.874589509186  |  0.0168634064081  |   0.841508823053  |\n",
      "|     bun     |  0.883731250555  |  0.0188160113606  |   0.886838271005  |\n",
      "|  creatinine |  0.883997514866  |  0.0189047661312  |   0.886352598349  |\n",
      "|      na     |  0.874678263957  |  0.0172184254904  |   0.854621984782  |\n",
      "+-------------+------------------+-------------------+-------------------+\n",
      "+-------------------+\n",
      "|  mimic_negex_36hr |\n",
      "+-------------------+\n",
      "| 0.000485672656629 |\n",
      "| 0.000485672656629 |\n",
      "|  0.00161890885543 |\n",
      "|  0.00161890885543 |\n",
      "|        0.0        |\n",
      "|  0.00178079974097 |\n",
      "|  0.00178079974097 |\n",
      "|  0.00129512708435 |\n",
      "|  0.00129512708435 |\n",
      "|  0.0207220333495  |\n",
      "|  0.0207220333495  |\n",
      "|  0.00210458151206 |\n",
      "|  0.00210458151206 |\n",
      "|   0.115751983163  |\n",
      "|  0.00404727213858 |\n",
      "|   0.348389185689  |\n",
      "|   0.348551076574  |\n",
      "|   0.203011170471  |\n",
      "|  0.00534239922292 |\n",
      "|  0.00388538125304 |\n",
      "|  0.00404727213858 |\n",
      "|  0.00404727213858 |\n",
      "|  0.00388538125304 |\n",
      "+-------------------+\n",
      "[23 rows x 5 columns]\n",
      "\n"
     ]
    }
   ],
   "source": [
    "missing_data_summary.export_csv(header=True, filename='missing_data_summary_mimic.csv')\n",
    "missing_data_summary.print_rows(num_rows=len(missing_data_summary))"
   ]
  },
  {
   "cell_type": "code",
   "execution_count": 47,
   "metadata": {
    "collapsed": true
   },
   "outputs": [],
   "source": [
    "FM_filled.export_csv('Feature_Matrix_MIMIC_with_missing_values.csv')"
   ]
  },
  {
   "cell_type": "code",
   "execution_count": 48,
   "metadata": {
    "collapsed": true
   },
   "outputs": [],
   "source": [
    "FM_filled_cc.export_csv('Feature_Matrix_MIMIC_complete_case.csv')"
   ]
  },
  {
   "cell_type": "code",
   "execution_count": null,
   "metadata": {
    "collapsed": true
   },
   "outputs": [],
   "source": []
  }
 ],
 "metadata": {
  "kernelspec": {
   "display_name": "Python 2",
   "language": "python",
   "name": "python2"
  },
  "language_info": {
   "codemirror_mode": {
    "name": "ipython",
    "version": 2
   },
   "file_extension": ".py",
   "mimetype": "text/x-python",
   "name": "python",
   "nbconvert_exporter": "python",
   "pygments_lexer": "ipython2",
   "version": "2.7.13"
  }
 },
 "nbformat": 4,
 "nbformat_minor": 2
}
